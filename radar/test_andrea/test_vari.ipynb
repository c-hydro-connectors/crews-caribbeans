{
 "cells": [
  {
   "cell_type": "code",
   "execution_count": null,
   "id": "1e6fb09c-af24-4e46-a4c6-b45c1a1b9790",
   "metadata": {},
   "outputs": [],
   "source": [
    "from drops2 import sensors\n",
    "from drops2.utils import DropsCredentials\n",
    "import numpy as np\n",
    "import pandas as pd\n",
    "import datetime as dt\n",
    "import xarray as xr\n",
    "import logging, json, warnings, os, time\n",
    "import netrc\n",
    "from argparse import ArgumentParser\n",
    "import rioxarray\n",
    "import rasterio as rio"
   ]
  },
  {
   "cell_type": "code",
   "execution_count": null,
   "id": "6536fe69-7989-4e61-9b12-2d951828fd90",
   "metadata": {},
   "outputs": [],
   "source": [
    "time_start\n",
    "time_end\n",
    "drops_settings\n",
    "logging.info(\"---> Querying drops dataset...\")\n",
    "DropsCredentials.set(drops_settings[\"DropsAddress\"], drops_settings[\"DropsUser\"], drops_settings[\"DropsPwd\"])\n",
    "sensors_list_P = sensors.get_sensor_list(drops_settings[\"DropsSensor\"],\n",
    "                                         geo_win=(drops_settings['lon_left'], drops_settings['lat_bottom'], drops_settings['lon_right'], drops_settings['lat_top']),\n",
    "                                         group=drops_settings[\"DropsGroup\"])\n",
    "date_from = time_start.strftime(\"%Y%m%d%H%M\")\n",
    "date_to = time_end.strftime(\"%Y%m%d%H%M\")\n",
    "\n",
    "df_pluvio = sensors.get_sensor_data(drops_settings[\"DropsSensor\"], sensors_list_P, date_from, date_to, as_pandas=True)\n",
    "df_pluvio = df_pluvio.dropna('columns', how='all')\n",
    "\n",
    "df_pluvio_now = pd.DataFrame(index=['name','lon','lat','value'], columns = df_pluvio.columns)\n",
    "\n",
    "for col in df_pluvio.columns:\n",
    "    series = df_pluvio[col]\n",
    "    series[series<0] = np.nan\n",
    "    series = series.dropna('rows', how='all')\n",
    "\n",
    "    df_pluvio_now.loc['lat', col] = [i for i in sensors_list_P.list if i.id == col][0].lat\n",
    "    df_pluvio_now.loc['lon', col] = [i for i in sensors_list_P.list if i.id == col][0].lng\n",
    "    df_pluvio_now.loc['name', col] = [i for i in sensors_list_P.list if i.id == col][0].name\n",
    "\n",
    "    if (len(series>0)) and (date_to in series.keys()):\n",
    "        df_pluvio_now.loc['value',col] = series.resample(drops_settings['frequency'], closed='right', label='right').agg(pd.DataFrame.sum)[date_to]\n",
    "        df_pluvio_now.loc['value',col] = series.resample(drops_settings['frequency'], closed='right', label='right')\n",
    "    else:\n",
    "        df_pluvio_now.loc['value', col] = np.nan\n",
    "\n",
    "return df_pluvio_now.dropna('columns', how='any')"
   ]
  }
 ],
 "metadata": {
  "kernelspec": {
   "display_name": "Python 3 (ipykernel)",
   "language": "python",
   "name": "python3"
  },
  "language_info": {
   "codemirror_mode": {
    "name": "ipython",
    "version": 3
   },
   "file_extension": ".py",
   "mimetype": "text/x-python",
   "name": "python",
   "nbconvert_exporter": "python",
   "pygments_lexer": "ipython3",
   "version": "3.8.12"
  }
 },
 "nbformat": 4,
 "nbformat_minor": 5
}
